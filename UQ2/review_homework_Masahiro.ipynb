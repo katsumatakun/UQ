{
 "cells": [
  {
   "cell_type": "markdown",
   "metadata": {},
   "source": [
    "# Homework on Review\n",
    "## UQ2\n",
    "\n",
    "This homework assignment gives you a chance to independently practice some of the background skills covered in class.  This assignment is *not* intended to be difficult, but it may require you to look up certain topics or discuss things with your fellow classmates.  Always remember that I am a resource and that I would be happy to discuss any and all problems during an office visit.\n",
    "\n",
    "While you are encouraged to discuss the problems with your classmates, please complete your own assignment.  Your responses should be typed as best you can.  Not all algebraic steps are required to be shown, but the logic flow should be clear.  Please submit your assignment on moodle by Wednesday night, February 12th."
   ]
  },
  {
   "cell_type": "markdown",
   "metadata": {},
   "source": [
    "1. Newton's method for optimization can be reconstructed by finding the minimum value of a Taylor series expansion.  Find a critical point for the following equation (which is some arbitary Taylor series about 0) and compare with Newton's method ([link here](https://en.wikipedia.org/wiki/Newton%27s_method_in_optimization)). $$ f(x) \\approx f(0) + f′(0) x + \\frac{1}{2}f''(0) x^2 $$\n",
    "\n",
    "\n"
   ]
  },
  {
   "cell_type": "markdown",
   "metadata": {},
   "source": [
    "$ \\frac{d}{dx}f(x) = f'(0)+ f''(0)x$ \n",
    "\n",
    "Now, Let $ \\frac{d}{dx}f(x) = 0 $ so $f'(0)+ f''(0)x = 0 \\Leftrightarrow x = -\\frac{f'(0)}{f''(0)}$ \n",
    "\n",
    "Therefore, a critical point for this is $(-\\frac{f'(0)}{f''(0)}, f(-\\frac{f'(0)}{f''(0)})) = \n",
    "(-\\frac{f'(0)}{f''(0)}, f(0)-\\frac{f'(0)^2}{f''(0)}+\\frac{f'(0)^2}{2f''(0)})$\n",
    "\n",
    "This is the same as one step of Newton's method iteration."
   ]
  },
  {
   "cell_type": "markdown",
   "metadata": {},
   "source": [
    "2. In class, we used the method of Maximum Likelihood to estimate the parameter $\\beta$ from a constant model.  In that same setup, we had another unknown parameter, $\\sigma^2$.  The likelihood function we derived in class was\n",
    "$$ L(\\beta,\\sigma^2) = \\prod_{i=1}^n \\frac{1}{\\sqrt{2\\pi \\sigma}} \\exp\\left(-\\frac{\\left(y_i - \\beta\\right)^2}{2\\sigma^2}\\right).$$\n",
    "Using the same principle of the Maximum Likelihood we did in class, find the estimate for $\\sigma^2$."
   ]
  },
  {
   "cell_type": "markdown",
   "metadata": {},
   "source": [
    "First, take natural log in both sides so $ln[ L(\\beta,\\sigma^2)] = ln[\\prod_{i=1}^n \\frac{1}{\\sqrt{2\\pi} \\sigma} \\exp\\left(-\\frac{\\left(y_i - \\beta\\right)^2}{2\\sigma^2}\\right)] = \\sum_{i=1}^{n}\\left(-\\frac{\\left(y_i - \\beta\\right)^2}{2\\sigma^2}\\right)-\\frac{n}{2}ln(2\\pi)-\\frac{n}{2}ln(\\sigma^2)$\n",
    "\n",
    "Then, take the derivative so $\\frac{d}{d\\sigma}L(\\beta, \\sigma^2) = \\sum_{i=1}^{n}\\left(\\frac{\\left(y_i - \\beta\\right)^2} {\\sigma^3}\\right) -\\frac{n}{\\sigma}$\n",
    "\n",
    "Let $\\frac{d}{d\\sigma}L(\\beta, \\sigma^2) = 0 \\Leftrightarrow \\sum_{i=1}^{n}\\left(\\frac{\\left(y_i - \\beta\\right)^2} {\\hat\\sigma^3}\\right) -\\frac{n}{\\hat\\sigma}= 0 \\Leftrightarrow \\sum_{i=1}^{n}(y_i - \\beta)^2 = n\\hat\\sigma^2 \\Leftrightarrow \\hat\\sigma^2 = \\frac{\\sum_{i=1}^{n}\\,(y_i - \\beta)^2 }{n}$"
   ]
  },
  {
   "cell_type": "markdown",
   "metadata": {},
   "source": [
    "3. You are diagnosed with an uncommon disease. You know that there is only a 1% chance of getting it. Use the letter $D$ for the event \"you have the disease\" and $T$ for \"the test says so.\" It is known that the test is imperfect: $P(T|D) = 0.98$ and $P(T^c | D^c) = 0.95$.\n",
    "\n",
    "    1. Given that you test positive, what is the probability that you really have the disease?\n",
    "    \n",
    "    2. You obtain a second opinion: an independent repetition of the test. You test positive *again*. Given this, what is the probability that you really have the disease?"
   ]
  },
  {
   "cell_type": "markdown",
   "metadata": {},
   "source": [
    "From the statement, $P(D)=0.01$ and $P(D^c)=0.99$.\n",
    "\n",
    "A. We want to find $P(D|T)$, but $P(D|T)=\\frac{P(D \\,\\cap\\, T)}{P(T)}=\\frac{P(D)P(T|D)}{P(T)}=\\frac{P(D)P(T|D)}{P(D^c \\,\\cap\\,T)+P(D \\,\\cap\\,T)}=\\frac{P(D)P(T|D)}{P(D)P(T|D)+P(D^c)P(T|D^c)}=\\frac{0.01*0.98}{0.01*0.98+0.99*0.05}\\approx0.165$\n",
    "\n",
    "B. We want to find $P(D|T_1\\,\\cap\\,T_2)=\\frac{P(D \\,\\cap\\,T_1 \\,\\cap\\,T_2)}{P(T_1 \\,\\cap\\,T_2)}=\\frac{P(T_1\\,\\cap\\,T_2|D)P(D)}{P(T_1 \\,\\cap\\,T_2)}$,$\\,$But $P(T_1), P(T_2)$ are independent given $D$ happens or given $D^c$ happens $\\frac{P(T_1\\,\\cap\\,T_2|D)P(D)}{P(T_1 \\,\\cap\\,T_2)}=\\frac{P(T_1|D)P(T_2|D)P(D)}{P(T_1|D)P(T_2|D)P(D)+P(T_1|D^c)P(T_2|D^c)P(D^c)}=\\frac{0.98*0.98*0.01}{(0.98*0.98*0.01+0.05*0.05*0.99)}\\approx0.7950989320307973$"
   ]
  },
  {
   "cell_type": "markdown",
   "metadata": {},
   "source": [
    "4. The point (1,1) is mapped to the point (5,5), and the point (-1,1) is mapped to the point (1,3).  Determine the 2x2 matrix that makes this possible."
   ]
  },
  {
   "cell_type": "markdown",
   "metadata": {},
   "source": [
    "Let $A = \\begin{bmatrix}a&b\\\\c&d\\end{bmatrix}$.\n",
    "\n",
    "Since the point (1,1) is mapped to the point (5,5),$\\, \\begin{bmatrix}a&b\\\\c&d\\end{bmatrix}\\begin{bmatrix}1\\\\1\\end{bmatrix} = \\begin{bmatrix}5\\\\5\\end{bmatrix}$ so $a+b=5...(1)$ and $c+d=5...(2)$\n",
    "\n",
    "Since the point (-1,1) is mapped to the point (1,3).$\\, \\begin{bmatrix}a&b\\\\c&d\\end{bmatrix}\\begin{bmatrix}-1\\\\1\\end{bmatrix} =\n",
    "\\begin{bmatrix}1\\\\3\\end{bmatrix}$ so $-a+b=1...(3)$ and $-c+d=3...(4)$\n",
    "\n",
    "From $(1)$ and $(3)$, $a=2,b=3$. From $(2)$ and $(4)$, $c=1,d=4$\n",
    "\n",
    "Therefore, the 2x2 matrix $A = \\begin{bmatrix}2&3\\\\1&4\\end{bmatrix}$"
   ]
  },
  {
   "cell_type": "markdown",
   "metadata": {},
   "source": [
    "5. Examine the following matrix equation:\n",
    "$$ \\begin{bmatrix} -1 & -5 \\\\ -5 & -1 \\end{bmatrix} \\begin{bmatrix} -1 \\\\ 1 \\end{bmatrix} = \\lambda \\begin{bmatrix} -1 \\\\ 1 \\end{bmatrix}.$$  Find the appropriate value of $\\lambda$.  What do we call this value?"
   ]
  },
  {
   "cell_type": "markdown",
   "metadata": {},
   "source": [
    "$ \\begin{bmatrix} -1 & -5 \\\\ -5 & -1 \\end{bmatrix} \\begin{bmatrix} -1 \\\\ 1 \\end{bmatrix} = \\begin{bmatrix} -4\\\\4\\end{bmatrix}=4\\begin{bmatrix}-1\\\\1\\end{bmatrix}$\n",
    "\n",
    "Therefore $\\lambda=4$, and it's called an eigenvalue"
   ]
  },
  {
   "cell_type": "markdown",
   "metadata": {},
   "source": []
  },
  {
   "cell_type": "markdown",
   "metadata": {},
   "source": []
  }
 ],
 "metadata": {
  "kernelspec": {
   "display_name": "Julia 1.3.1",
   "language": "julia",
   "name": "julia-1.3"
  },
  "language_info": {
   "file_extension": ".jl",
   "mimetype": "application/julia",
   "name": "julia",
   "version": "1.3.1"
  }
 },
 "nbformat": 4,
 "nbformat_minor": 2
}
