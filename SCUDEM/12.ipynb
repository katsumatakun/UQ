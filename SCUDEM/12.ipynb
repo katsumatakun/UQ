{
 "cells": [
  {
   "cell_type": "markdown",
   "metadata": {},
   "source": [
    "# Lecture 12 - Sampling Models"
   ]
  },
  {
   "cell_type": "code",
   "execution_count": null,
   "metadata": {},
   "outputs": [],
   "source": [
    "using DifferentialEquations, ParameterizedFunctions, Distributions, Random, Plots; gr();"
   ]
  },
  {
   "cell_type": "markdown",
   "metadata": {},
   "source": [
    "## Mass-Spring Model"
   ]
  },
  {
   "cell_type": "code",
   "execution_count": null,
   "metadata": {},
   "outputs": [],
   "source": [
    "MS_rhs = @ode_def begin\n",
    "    dx = y\n",
    "    dy = -(k/m)*x - (g/m)*y\n",
    "end m k g;"
   ]
  },
  {
   "cell_type": "code",
   "execution_count": null,
   "metadata": {},
   "outputs": [],
   "source": [
    "function solve_MS(m,k,g,u0,u1)\n",
    "    u0 = [u0, u1]\n",
    "    tspan = (0.0, 50000.0)\n",
    "    p = [m, k, g]\n",
    "    prob = ODEProblem(MS_rhs, u0, tspan, p)\n",
    "    sol = solve(prob)\n",
    "    return sol\n",
    "end;"
   ]
  },
  {
   "cell_type": "code",
   "execution_count": null,
   "metadata": {},
   "outputs": [],
   "source": [
    "solve_MS(10,0.5,0.1,4.0,0.0)\n",
    "@time sol = solve_MS(10,0.5,0.1,4.0,0.0);"
   ]
  },
  {
   "cell_type": "code",
   "execution_count": null,
   "metadata": {},
   "outputs": [],
   "source": [
    "function eqtime_MS(m,k,g,u0,u1)\n",
    "    sol = solve_MS(m,k,g,u0,u1)\n",
    "    threshold = 0.00001\n",
    "    eqtime = findfirst([sum(y) for y in [abs.(x) for x in sol.u]] .< threshold)\n",
    "    return sol.t[eqtime]\n",
    "end;"
   ]
  },
  {
   "cell_type": "code",
   "execution_count": null,
   "metadata": {},
   "outputs": [],
   "source": [
    "eqtime_MS(10,0.1,0.1,4.0,0.0)\n",
    "@time eqtime_MS(10,0.1,0.1,4.0,0.0);"
   ]
  },
  {
   "cell_type": "markdown",
   "metadata": {},
   "source": [
    "## SIR Model"
   ]
  },
  {
   "cell_type": "code",
   "execution_count": null,
   "metadata": {},
   "outputs": [],
   "source": [
    "SIR_rhs = @ode_def begin\n",
    "    ds = - c * s * i\n",
    "    di = c * s * i - h * i\n",
    "    dr = h * i\n",
    "end c h;"
   ]
  },
  {
   "cell_type": "code",
   "execution_count": null,
   "metadata": {},
   "outputs": [],
   "source": [
    "function solve_SIR(c,h)\n",
    "    u0 = [0.99999 0.000001 0.0]\n",
    "    tspan = (0, 5000.0)\n",
    "    p = [c , h]\n",
    "    prob = ODEProblem(SIR_rhs, u0, tspan, p)\n",
    "    sol = solve(prob)\n",
    "    return sol\n",
    "end;"
   ]
  },
  {
   "cell_type": "code",
   "execution_count": null,
   "metadata": {},
   "outputs": [],
   "source": [
    "solve_SIR(0.5,0.2)\n",
    "@time sol = solve_SIR(0.5,0.1);"
   ]
  },
  {
   "cell_type": "code",
   "execution_count": null,
   "metadata": {},
   "outputs": [],
   "source": [
    "function eqpts_SIR(c,h)\n",
    "    sol = solve_SIR(c,h) \n",
    "    return sol.u[end]\n",
    "end;"
   ]
  },
  {
   "cell_type": "code",
   "execution_count": null,
   "metadata": {},
   "outputs": [],
   "source": [
    "eqpts_SIR(0.5,0.1)\n",
    "@time eqpts_SIR(0.5,0.2);"
   ]
  },
  {
   "cell_type": "markdown",
   "metadata": {},
   "source": [
    "## Sobol G Function\n",
    "\n",
    "Defined as\n",
    "\n",
    "$$ f(\\vec{x}) = \\prod_{i=1}^N \\frac{|4x_i - 2| + a_i}{1-a_i} $$\n",
    "\n",
    "where\n",
    "\n",
    "$$ \\vec{x} = [x_1, x_2, \\cdots, x_N] , \\quad x_i \\sim \\mathbf{U}(0,1)$$\n",
    "\n",
    "and\n",
    "\n",
    "$$ a_i = \\frac{i - 2}{2} \\text{ for all } i = 1, \\cdots, N .$$"
   ]
  },
  {
   "cell_type": "code",
   "execution_count": null,
   "metadata": {},
   "outputs": [],
   "source": [
    "function solve_SB(x; a=[0, 0.25, 99.0])\n",
    "    if length(x) != length(a)\n",
    "        error(\"Vectors must be the same dimension\")\n",
    "    else\n",
    "        y = prod([(abs(4*x[i] - 2) + a[i])./(1+a[i]) for i = 1:length(x)])\n",
    "    end\n",
    "    return y\n",
    "end;"
   ]
  },
  {
   "cell_type": "code",
   "execution_count": null,
   "metadata": {},
   "outputs": [],
   "source": [
    "solve_SB([0.1 0.2 0.3])\n",
    "@time sol = solve_SB([0.1 0.2 0.4]);"
   ]
  }
 ],
 "metadata": {
  "kernelspec": {
   "display_name": "Julia 1.2.0",
   "language": "julia",
   "name": "julia-1.2"
  },
  "language_info": {
   "file_extension": ".jl",
   "mimetype": "application/julia",
   "name": "julia",
   "version": "1.2.0"
  }
 },
 "nbformat": 4,
 "nbformat_minor": 2
}
