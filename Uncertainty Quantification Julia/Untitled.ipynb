{
 "cells": [
  {
   "cell_type": "code",
   "execution_count": 1,
   "metadata": {},
   "outputs": [
    {
     "name": "stderr",
     "output_type": "stream",
     "text": [
      "┌ Info: Precompiling Distributions [31c24e10-a181-5473-b8eb-7969acd0382f]\n",
      "└ @ Base loading.jl:1242\n",
      "ERROR: LoadError: Rmath not properly installed. Please run Pkg.build(\"Rmath\") and restart julia\n",
      "Stacktrace:\n",
      " [1] error(::String) at .\\error.jl:33\n",
      " [2] top-level scope at C:\\Users\\masahiro\\.julia\\packages\\Rmath\\BoBag\\src\\Rmath.jl:17\n",
      " [3] include at .\\boot.jl:328 [inlined]\n",
      " [4] include_relative(::Module, ::String) at .\\loading.jl:1094\n",
      " [5] include(::Module, ::String) at .\\Base.jl:31\n",
      " [6] top-level scope at none:2\n",
      " [7] eval at .\\boot.jl:330 [inlined]\n",
      " [8] eval(::Expr) at .\\client.jl:432\n",
      " [9] top-level scope at .\\none:3\n",
      "in expression starting at C:\\Users\\masahiro\\.julia\\packages\\Rmath\\BoBag\\src\\Rmath.jl:14\n",
      "ERROR: LoadError: LoadError: Failed to precompile Rmath [79098fc4-a85e-5d69-aa6a-4863f24498fa] to C:\\Users\\masahiro\\.julia\\compiled\\v1.2\\Rmath\\0iTqX.ji.\n",
      "Stacktrace:\n",
      " [1] error(::String) at .\\error.jl:33\n",
      " [2] compilecache(::Base.PkgId, ::String) at .\\loading.jl:1253\n",
      " [3] _require(::Base.PkgId) at .\\loading.jl:1013\n",
      " [4] require(::Base.PkgId) at .\\loading.jl:911\n",
      " [5] require(::Module, ::Symbol) at .\\loading.jl:906\n",
      " [6] include at .\\boot.jl:328 [inlined]\n",
      " [7] include_relative(::Module, ::String) at .\\loading.jl:1094\n",
      " [8] include at .\\Base.jl:31 [inlined]\n",
      " [9] include(::String) at C:\\Users\\masahiro\\.julia\\packages\\StatsFuns\\2QE7p\\src\\StatsFuns.jl:3\n",
      " [10] top-level scope at C:\\Users\\masahiro\\.julia\\packages\\StatsFuns\\2QE7p\\src\\StatsFuns.jl:239\n",
      " [11] include at .\\boot.jl:328 [inlined]\n",
      " [12] include_relative(::Module, ::String) at .\\loading.jl:1094\n",
      " [13] include(::Module, ::String) at .\\Base.jl:31\n",
      " [14] top-level scope at none:2\n",
      " [15] eval at .\\boot.jl:330 [inlined]\n",
      " [16] eval(::Expr) at .\\client.jl:432\n",
      " [17] top-level scope at .\\none:3\n",
      "in expression starting at C:\\Users\\masahiro\\.julia\\packages\\StatsFuns\\2QE7p\\src\\rmath.jl:5\n",
      "in expression starting at C:\\Users\\masahiro\\.julia\\packages\\StatsFuns\\2QE7p\\src\\StatsFuns.jl:239\n",
      "ERROR: LoadError: Failed to precompile StatsFuns [4c63d2b9-4356-54db-8cca-17b64c39e42c] to C:\\Users\\masahiro\\.julia\\compiled\\v1.2\\StatsFuns\\530lR.ji.\n",
      "Stacktrace:\n",
      " [1] error(::String) at .\\error.jl:33\n",
      " [2] compilecache(::Base.PkgId, ::String) at .\\loading.jl:1253\n",
      " [3] _require(::Base.PkgId) at .\\loading.jl:1013\n",
      " [4] require(::Base.PkgId) at .\\loading.jl:911\n",
      " [5] require(::Module, ::Symbol) at .\\loading.jl:906\n",
      " [6] include at .\\boot.jl:328 [inlined]\n",
      " [7] include_relative(::Module, ::String) at .\\loading.jl:1094\n",
      " [8] include(::Module, ::String) at .\\Base.jl:31\n",
      " [9] top-level scope at none:2\n",
      " [10] eval at .\\boot.jl:330 [inlined]\n",
      " [11] eval(::Expr) at .\\client.jl:432\n",
      " [12] top-level scope at .\\none:3\n",
      "in expression starting at C:\\Users\\masahiro\\.julia\\packages\\Distributions\\wRw5p\\src\\Distributions.jl:3\n"
     ]
    },
    {
     "ename": "ErrorException",
     "evalue": "Failed to precompile Distributions [31c24e10-a181-5473-b8eb-7969acd0382f] to C:\\Users\\masahiro\\.julia\\compiled\\v1.2\\Distributions\\xILW0.ji.",
     "output_type": "error",
     "traceback": [
      "Failed to precompile Distributions [31c24e10-a181-5473-b8eb-7969acd0382f] to C:\\Users\\masahiro\\.julia\\compiled\\v1.2\\Distributions\\xILW0.ji.",
      "",
      "Stacktrace:",
      " [1] error(::String) at .\\error.jl:33",
      " [2] compilecache(::Base.PkgId, ::String) at .\\loading.jl:1253",
      " [3] _require(::Base.PkgId) at .\\loading.jl:1013",
      " [4] require(::Base.PkgId) at .\\loading.jl:911",
      " [5] require(::Module, ::Symbol) at .\\loading.jl:906",
      " [6] top-level scope at In[1]:1"
     ]
    }
   ],
   "source": [
    "using Distributions, Random"
   ]
  },
  {
   "cell_type": "code",
   "execution_count": 3,
   "metadata": {},
   "outputs": [
    {
     "data": {
      "text/plain": [
       "Uniform{Float64}(a=12.0, b=19.0)"
      ]
     },
     "execution_count": 3,
     "metadata": {},
     "output_type": "execute_result"
    }
   ],
   "source": [
    "p = Uniform(8,18)\n",
    "e = Uniform(12,19)"
   ]
  },
  {
   "cell_type": "code",
   "execution_count": 26,
   "metadata": {},
   "outputs": [
    {
     "data": {
      "text/plain": [
       "Set([2.0, 3.0, 1.0])"
      ]
     },
     "execution_count": 26,
     "metadata": {},
     "output_type": "execute_result"
    }
   ],
   "source": [
    "count = 0\n",
    "count_ok = 0\n",
    "for i=0:1000\n",
    "    a = rand(p)\n",
    "    b = rand(e)\n",
    "    count+=1\n",
    "#     println(a)\n",
    "#     println(b)\n",
    "#     println()\n",
    "    count+=1\n",
    "end\n",
    "\n",
    "count_ok/count\n",
    "a = 1:0.01:10\n",
    "b = 2:0"
   ]
  },
  {
   "cell_type": "code",
   "execution_count": 13,
   "metadata": {},
   "outputs": [
    {
     "data": {
      "text/plain": [
       "1-element Array{Int64,1}:\n",
       " 20200"
      ]
     },
     "execution_count": 13,
     "metadata": {},
     "output_type": "execute_result"
    }
   ],
   "source": []
  },
  {
   "cell_type": "code",
   "execution_count": null,
   "metadata": {},
   "outputs": [],
   "source": []
  }
 ],
 "metadata": {
  "kernelspec": {
   "display_name": "Julia 1.2.0",
   "language": "julia",
   "name": "julia-1.2"
  },
  "language_info": {
   "file_extension": ".jl",
   "mimetype": "application/julia",
   "name": "julia",
   "version": "1.2.0"
  }
 },
 "nbformat": 4,
 "nbformat_minor": 2
}
