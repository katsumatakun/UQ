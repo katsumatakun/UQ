{
 "cells": [
  {
   "cell_type": "markdown",
   "metadata": {},
   "source": [
    "# Lecture 12 - Sampling Models"
   ]
  },
  {
   "cell_type": "code",
   "execution_count": 3,
   "metadata": {},
   "outputs": [],
   "source": [
    "using Pkg"
   ]
  },
  {
   "cell_type": "code",
   "execution_count": 5,
   "metadata": {},
   "outputs": [
    {
     "name": "stdout",
     "output_type": "stream",
     "text": [
      "\u001b[32m\u001b[1m  Updating\u001b[22m\u001b[39m registry at `C:\\Users\\masahiro\\.julia\\registries\\General`\n",
      "\u001b[32m\u001b[1m  Updating\u001b[22m\u001b[39m git-repo `https://github.com/JuliaRegistries/General.git`\n",
      "\u001b[2K\u001b[?25h[1mFetching:\u001b[22m\u001b[39m [========================================>]  100.0 %.0 % [==>                                      ]  3.8 %]  9.7 %15.0 % [========>                                ]  19.8 % %5 %37.4 %\u001b[36m\u001b[1mFetching:\u001b[22m\u001b[39m [==================>                      ]  43.6 %\u001b[36m\u001b[1mFetching:\u001b[22m\u001b[39m [=====================>                   ]  51.9 %]  55.6 % %\u001b[36m\u001b[1mFetching:\u001b[22m\u001b[39m [===========================>             ]  65.1 %71.3 %\u001b[36m\u001b[1mFetching:\u001b[22m\u001b[39m [===============================>         ]  75.0 % %\u001b[36m\u001b[1mFetching:\u001b[22m\u001b[39m [==================================>      ]  84.4 %\u001b[36m\u001b[1mFetching:\u001b[22m\u001b[39m [========================================>]  98.0 %\u001b[32m\u001b[1m Resolving\u001b[22m\u001b[39m package versions...\n",
      "\u001b[32m\u001b[1m Installed\u001b[22m\u001b[39m DimensionalPlotRecipes ────── v1.0.0\n",
      "\u001b[32m\u001b[1m Installed\u001b[22m\u001b[39m ArrayInterface ────────────── v1.2.1\n",
      "\u001b[32m\u001b[1m Installed\u001b[22m\u001b[39m DiffEqCallbacks ───────────── v2.8.0\n",
      "\u001b[32m\u001b[1m Installed\u001b[22m\u001b[39m Inflate ───────────────────── v0.1.1\n",
      "\u001b[32m\u001b[1m Installed\u001b[22m\u001b[39m NLsolve ───────────────────── v4.1.0\n",
      "\u001b[32m\u001b[1m Installed\u001b[22m\u001b[39m DifferentialEquations ─────── v6.8.0\n",
      "\u001b[32m\u001b[1m Installed\u001b[22m\u001b[39m StaticArrays ──────────────── v0.11.1\n",
      "\u001b[32m\u001b[1m Installed\u001b[22m\u001b[39m DelayDiffEq ───────────────── v5.16.0\n",
      "\u001b[32m\u001b[1m Installed\u001b[22m\u001b[39m GenericSVD ────────────────── v0.2.2\n",
      "\u001b[32m\u001b[1m Installed\u001b[22m\u001b[39m ExponentialUtilities ──────── v1.5.1\n",
      "\u001b[32m\u001b[1m Installed\u001b[22m\u001b[39m LineSearches ──────────────── v7.0.1\n",
      "\u001b[32m\u001b[1m Installed\u001b[22m\u001b[39m MacroTools ────────────────── v0.5.1\n",
      "\u001b[32m\u001b[1m Installed\u001b[22m\u001b[39m Calculus ──────────────────── v0.5.0\n",
      "\u001b[32m\u001b[1m Installed\u001b[22m\u001b[39m TreeViews ─────────────────── v0.3.0\n",
      "\u001b[32m\u001b[1m Installed\u001b[22m\u001b[39m NLSolversBase ─────────────── v7.5.0\n",
      "\u001b[32m\u001b[1m Installed\u001b[22m\u001b[39m DiffEqJump ────────────────── v6.2.2\n",
      "\u001b[32m\u001b[1m Installed\u001b[22m\u001b[39m SparseDiffTools ───────────── v0.9.1\n",
      "\u001b[32m\u001b[1m Installed\u001b[22m\u001b[39m CommonSubexpressions ──────── v0.2.0\n",
      "\u001b[32m\u001b[1m Installed\u001b[22m\u001b[39m BlockBandedMatrices ───────── v0.4.6\n",
      "\u001b[32m\u001b[1m Installed\u001b[22m\u001b[39m ArnoldiMethod ─────────────── v0.0.4\n",
      "\u001b[32m\u001b[1m Installed\u001b[22m\u001b[39m RecursiveFactorization ────── v0.1.0\n",
      "\u001b[32m\u001b[1m Installed\u001b[22m\u001b[39m PoissonRandom ─────────────── v0.4.0\n",
      "\u001b[32m\u001b[1m Installed\u001b[22m\u001b[39m VertexSafeGraphs ──────────── v0.1.0\n",
      "\u001b[32m\u001b[1m Installed\u001b[22m\u001b[39m BoundaryValueDiffEq ───────── v2.3.0\n",
      "\u001b[32m\u001b[1m Installed\u001b[22m\u001b[39m FillArrays ────────────────── v0.6.4\n",
      "\u001b[32m\u001b[1m Installed\u001b[22m\u001b[39m IteratorInterfaceExtensions ─ v1.0.0\n",
      "\u001b[32m\u001b[1m Installed\u001b[22m\u001b[39m LazyArrays ────────────────── v0.10.0\n",
      "\u001b[32m\u001b[1m Installed\u001b[22m\u001b[39m DiffRules ─────────────────── v0.0.10\n",
      "\u001b[32m\u001b[1m Installed\u001b[22m\u001b[39m MatrixFactorizations ──────── v0.1.0\n",
      "\u001b[32m\u001b[1m Installed\u001b[22m\u001b[39m DiffEqBase ────────────────── v6.3.6\n",
      "\u001b[32m\u001b[1m Installed\u001b[22m\u001b[39m RandomNumbers ─────────────── v1.3.0\n",
      "\u001b[32m\u001b[1m Installed\u001b[22m\u001b[39m ResettableStacks ──────────── v0.6.0\n",
      "\u001b[32m\u001b[1m Installed\u001b[22m\u001b[39m Parameters ────────────────── v0.12.0\n",
      "\u001b[32m\u001b[1m Installed\u001b[22m\u001b[39m DiffEqDiffTools ───────────── v1.3.0\n",
      "\u001b[32m\u001b[1m Installed\u001b[22m\u001b[39m Tokenize ──────────────────── v0.5.6\n",
      "\u001b[32m\u001b[1m Installed\u001b[22m\u001b[39m Distances ─────────────────── v0.8.2\n",
      "\u001b[32m\u001b[1m Installed\u001b[22m\u001b[39m TableTraits ───────────────── v1.0.0\n",
      "\u001b[32m\u001b[1m Installed\u001b[22m\u001b[39m StochasticDiffEq ──────────── v6.11.2\n",
      "\u001b[32m\u001b[1m Installed\u001b[22m\u001b[39m IterativeSolvers ──────────── v0.8.1\n",
      "\u001b[32m\u001b[1m Installed\u001b[22m\u001b[39m OrdinaryDiffEq ────────────── v5.17.2\n",
      "\u001b[32m\u001b[1m Installed\u001b[22m\u001b[39m RecursiveArrayTools ───────── v1.0.2\n",
      "\u001b[32m\u001b[1m Installed\u001b[22m\u001b[39m MuladdMacro ───────────────── v0.2.1\n",
      "\u001b[32m\u001b[1m Installed\u001b[22m\u001b[39m CSTParser ─────────────────── v0.6.2\n",
      "\u001b[32m\u001b[1m Installed\u001b[22m\u001b[39m Sundials ──────────────────── v3.7.0\n",
      "\u001b[32m\u001b[1m Installed\u001b[22m\u001b[39m BlockArrays ───────────────── v0.9.1\n",
      "\u001b[32m\u001b[1m Installed\u001b[22m\u001b[39m DataStructures ────────────── v0.17.3\n",
      "\u001b[32m\u001b[1m Installed\u001b[22m\u001b[39m BandedMatrices ────────────── v0.10.1\n",
      "\u001b[32m\u001b[1m Installed\u001b[22m\u001b[39m LightGraphs ───────────────── v1.3.0\n",
      "\u001b[32m\u001b[1m Installed\u001b[22m\u001b[39m MultiScaleArrays ──────────── v1.5.0\n",
      "\u001b[32m\u001b[1m Installed\u001b[22m\u001b[39m SteadyStateDiffEq ─────────── v1.5.0\n",
      "\u001b[32m\u001b[1m Installed\u001b[22m\u001b[39m SimpleTraits ──────────────── v0.9.1\n",
      "\u001b[32m\u001b[1m Installed\u001b[22m\u001b[39m DiffEqNoiseProcess ────────── v3.3.1\n",
      "\u001b[32m\u001b[1m Installed\u001b[22m\u001b[39m DiffEqPhysics ─────────────── v3.2.0\n",
      "\u001b[32m\u001b[1m Installed\u001b[22m\u001b[39m Roots ─────────────────────── v0.8.3\n",
      "\u001b[32m\u001b[1m Installed\u001b[22m\u001b[39m DiffResults ───────────────── v0.0.4\n",
      "\u001b[32m\u001b[1m Installed\u001b[22m\u001b[39m ForwardDiff ───────────────── v0.10.3\n",
      "\u001b[32m\u001b[1m Installed\u001b[22m\u001b[39m FunctionWrappers ──────────── v1.0.0\n",
      "\u001b[32m\u001b[1m Installed\u001b[22m\u001b[39m DiffEqFinancial ───────────── v2.2.1\n",
      "\u001b[32m\u001b[1m Installed\u001b[22m\u001b[39m Adapt ─────────────────────── v1.0.0\n",
      "\u001b[32m\u001b[1m Installed\u001b[22m\u001b[39m DocStringExtensions ───────── v0.8.1\n",
      "\u001b[32m\u001b[1m  Updating\u001b[22m\u001b[39m `C:\\Users\\masahiro\\.julia\\environments\\v1.2\\Project.toml`\n",
      " \u001b[90m [0c46a032]\u001b[39m\u001b[92m + DifferentialEquations v6.8.0\u001b[39m\n",
      "\u001b[32m\u001b[1m  Updating\u001b[22m\u001b[39m `C:\\Users\\masahiro\\.julia\\environments\\v1.2\\Manifest.toml`\n",
      " \u001b[90m [79e6a3ab]\u001b[39m\u001b[92m + Adapt v1.0.0\u001b[39m\n",
      " \u001b[90m [ec485272]\u001b[39m\u001b[92m + ArnoldiMethod v0.0.4\u001b[39m\n",
      " \u001b[90m [4fba245c]\u001b[39m\u001b[92m + ArrayInterface v1.2.1\u001b[39m\n",
      " \u001b[90m [aae01518]\u001b[39m\u001b[92m + BandedMatrices v0.10.1\u001b[39m\n",
      " \u001b[90m [8e7c35d0]\u001b[39m\u001b[92m + BlockArrays v0.9.1\u001b[39m\n",
      " \u001b[90m [ffab5731]\u001b[39m\u001b[92m + BlockBandedMatrices v0.4.6\u001b[39m\n",
      " \u001b[90m [764a87c0]\u001b[39m\u001b[92m + BoundaryValueDiffEq v2.3.0\u001b[39m\n",
      " \u001b[90m [00ebfdb7]\u001b[39m\u001b[92m + CSTParser v0.6.2\u001b[39m\n",
      " \u001b[90m [49dc2e85]\u001b[39m\u001b[92m + Calculus v0.5.0\u001b[39m\n",
      " \u001b[90m [bbf7d656]\u001b[39m\u001b[92m + CommonSubexpressions v0.2.0\u001b[39m\n",
      " \u001b[90m [864edb3b]\u001b[39m\u001b[93m ↑ DataStructures v0.17.2 ⇒ v0.17.3\u001b[39m\n",
      " \u001b[90m [bcd4f6db]\u001b[39m\u001b[92m + DelayDiffEq v5.16.0\u001b[39m\n",
      " \u001b[90m [2b5f629d]\u001b[39m\u001b[92m + DiffEqBase v6.3.6\u001b[39m\n",
      " \u001b[90m [459566f4]\u001b[39m\u001b[92m + DiffEqCallbacks v2.8.0\u001b[39m\n",
      " \u001b[90m [01453d9d]\u001b[39m\u001b[92m + DiffEqDiffTools v1.3.0\u001b[39m\n",
      " \u001b[90m [5a0ffddc]\u001b[39m\u001b[92m + DiffEqFinancial v2.2.1\u001b[39m\n",
      " \u001b[90m [c894b116]\u001b[39m\u001b[92m + DiffEqJump v6.2.2\u001b[39m\n",
      " \u001b[90m [77a26b50]\u001b[39m\u001b[92m + DiffEqNoiseProcess v3.3.1\u001b[39m\n",
      " \u001b[90m [055956cb]\u001b[39m\u001b[92m + DiffEqPhysics v3.2.0\u001b[39m\n",
      " \u001b[90m [163ba53b]\u001b[39m\u001b[92m + DiffResults v0.0.4\u001b[39m\n",
      " \u001b[90m [b552c78f]\u001b[39m\u001b[92m + DiffRules v0.0.10\u001b[39m\n",
      " \u001b[90m [0c46a032]\u001b[39m\u001b[92m + DifferentialEquations v6.8.0\u001b[39m\n",
      " \u001b[90m [c619ae07]\u001b[39m\u001b[92m + DimensionalPlotRecipes v1.0.0\u001b[39m\n",
      " \u001b[90m [b4f34e82]\u001b[39m\u001b[92m + Distances v0.8.2\u001b[39m\n",
      " \u001b[90m [ffbed154]\u001b[39m\u001b[92m + DocStringExtensions v0.8.1\u001b[39m\n",
      " \u001b[90m [d4d017d3]\u001b[39m\u001b[92m + ExponentialUtilities v1.5.1\u001b[39m\n",
      " \u001b[90m [1a297f60]\u001b[39m\u001b[92m + FillArrays v0.6.4\u001b[39m\n",
      " \u001b[90m [f6369f11]\u001b[39m\u001b[92m + ForwardDiff v0.10.3\u001b[39m\n",
      " \u001b[90m [069b7b12]\u001b[39m\u001b[92m + FunctionWrappers v1.0.0\u001b[39m\n",
      " \u001b[90m [01680d73]\u001b[39m\u001b[92m + GenericSVD v0.2.2\u001b[39m\n",
      " \u001b[90m [d25df0c9]\u001b[39m\u001b[92m + Inflate v0.1.1\u001b[39m\n",
      " \u001b[90m [42fd0dbc]\u001b[39m\u001b[92m + IterativeSolvers v0.8.1\u001b[39m\n",
      " \u001b[90m [82899510]\u001b[39m\u001b[92m + IteratorInterfaceExtensions v1.0.0\u001b[39m\n",
      " \u001b[90m [5078a376]\u001b[39m\u001b[92m + LazyArrays v0.10.0\u001b[39m\n",
      " \u001b[90m [093fc24a]\u001b[39m\u001b[92m + LightGraphs v1.3.0\u001b[39m\n",
      " \u001b[90m [d3d80556]\u001b[39m\u001b[92m + LineSearches v7.0.1\u001b[39m\n",
      " \u001b[90m [1914dd2f]\u001b[39m\u001b[92m + MacroTools v0.5.1\u001b[39m\n",
      " \u001b[90m [a3b82374]\u001b[39m\u001b[92m + MatrixFactorizations v0.1.0\u001b[39m\n",
      " \u001b[90m [46d2c3a1]\u001b[39m\u001b[92m + MuladdMacro v0.2.1\u001b[39m\n",
      " \u001b[90m [f9640e96]\u001b[39m\u001b[92m + MultiScaleArrays v1.5.0\u001b[39m\n",
      " \u001b[90m [d41bc354]\u001b[39m\u001b[92m + NLSolversBase v7.5.0\u001b[39m\n",
      " \u001b[90m [2774e3e8]\u001b[39m\u001b[92m + NLsolve v4.1.0\u001b[39m\n",
      " \u001b[90m [1dea7af3]\u001b[39m\u001b[92m + OrdinaryDiffEq v5.17.2\u001b[39m\n",
      " \u001b[90m [d96e819e]\u001b[39m\u001b[92m + Parameters v0.12.0\u001b[39m\n",
      " \u001b[90m [e409e4f3]\u001b[39m\u001b[92m + PoissonRandom v0.4.0\u001b[39m\n",
      " \u001b[90m [e6cf234a]\u001b[39m\u001b[92m + RandomNumbers v1.3.0\u001b[39m\n",
      " \u001b[90m [731186ca]\u001b[39m\u001b[92m + RecursiveArrayTools v1.0.2\u001b[39m\n",
      " \u001b[90m [f2c3362d]\u001b[39m\u001b[92m + RecursiveFactorization v0.1.0\u001b[39m\n",
      " \u001b[90m [ae5879a3]\u001b[39m\u001b[92m + ResettableStacks v0.6.0\u001b[39m\n",
      " \u001b[90m [f2b01f46]\u001b[39m\u001b[92m + Roots v0.8.3\u001b[39m\n",
      " \u001b[90m [699a6c99]\u001b[39m\u001b[92m + SimpleTraits v0.9.1\u001b[39m\n",
      " \u001b[90m [47a9eef4]\u001b[39m\u001b[92m + SparseDiffTools v0.9.1\u001b[39m\n",
      " \u001b[90m [90137ffa]\u001b[39m\u001b[93m ↑ StaticArrays v0.11.0 ⇒ v0.11.1\u001b[39m\n",
      " \u001b[90m [9672c7b4]\u001b[39m\u001b[92m + SteadyStateDiffEq v1.5.0\u001b[39m\n",
      " \u001b[90m [789caeaf]\u001b[39m\u001b[92m + StochasticDiffEq v6.11.2\u001b[39m\n",
      " \u001b[90m [c3572dad]\u001b[39m\u001b[92m + Sundials v3.7.0\u001b[39m\n",
      " \u001b[90m [3783bdb8]\u001b[39m\u001b[92m + TableTraits v1.0.0\u001b[39m\n",
      " \u001b[90m [0796e94c]\u001b[39m\u001b[92m + Tokenize v0.5.6\u001b[39m\n",
      " \u001b[90m [a2a6695c]\u001b[39m\u001b[92m + TreeViews v0.3.0\u001b[39m\n"
     ]
    },
    {
     "name": "stdout",
     "output_type": "stream",
     "text": [
      " \u001b[90m [19fa3120]\u001b[39m\u001b[92m + VertexSafeGraphs v0.1.0\u001b[39m\n",
      " \u001b[90m [9abbd945]\u001b[39m\u001b[92m + Profile \u001b[39m\n",
      "\u001b[32m\u001b[1m  Building\u001b[22m\u001b[39m Sundials → `C:\\Users\\masahiro\\.julia\\packages\\Sundials\\CRi5j\\deps\\build.log`\n"
     ]
    }
   ],
   "source": [
    "Pkg.add(\"DifferentialEquations\")"
   ]
  },
  {
   "cell_type": "code",
   "execution_count": 6,
   "metadata": {},
   "outputs": [
    {
     "name": "stdout",
     "output_type": "stream",
     "text": [
      "\u001b[32m\u001b[1m Resolving\u001b[22m\u001b[39m package versions...\n",
      "\u001b[32m\u001b[1m Installed\u001b[22m\u001b[39m ParameterizedFunctions ─ v4.2.1\n",
      "\u001b[32m\u001b[1m Installed\u001b[22m\u001b[39m SymEngine ────────────── v0.7.0\n",
      "\u001b[32m\u001b[1m Installed\u001b[22m\u001b[39m FillArrays ───────────── v0.7.3\n",
      "\u001b[32m\u001b[1m Installed\u001b[22m\u001b[39m BlockBandedMatrices ──── v0.5.1\n",
      "\u001b[32m\u001b[1m Installed\u001b[22m\u001b[39m LazyArrays ───────────── v0.12.2\n",
      "\u001b[32m\u001b[1m Installed\u001b[22m\u001b[39m MatrixFactorizations ─── v0.2.0\n",
      "\u001b[32m\u001b[1m Installed\u001b[22m\u001b[39m BlockArrays ──────────── v0.10.1\n",
      "\u001b[32m\u001b[1m Installed\u001b[22m\u001b[39m BandedMatrices ───────── v0.12.3\n",
      "\u001b[32m\u001b[1m  Updating\u001b[22m\u001b[39m `C:\\Users\\masahiro\\.julia\\environments\\v1.2\\Project.toml`\n",
      " \u001b[90m [65888b18]\u001b[39m\u001b[92m + ParameterizedFunctions v4.2.1\u001b[39m\n",
      "\u001b[32m\u001b[1m  Updating\u001b[22m\u001b[39m `C:\\Users\\masahiro\\.julia\\environments\\v1.2\\Manifest.toml`\n",
      " \u001b[90m [aae01518]\u001b[39m\u001b[93m ↑ BandedMatrices v0.10.1 ⇒ v0.12.3\u001b[39m\n",
      " \u001b[90m [8e7c35d0]\u001b[39m\u001b[93m ↑ BlockArrays v0.9.1 ⇒ v0.10.1\u001b[39m\n",
      " \u001b[90m [ffab5731]\u001b[39m\u001b[93m ↑ BlockBandedMatrices v0.4.6 ⇒ v0.5.1\u001b[39m\n",
      " \u001b[90m [1a297f60]\u001b[39m\u001b[93m ↑ FillArrays v0.6.4 ⇒ v0.7.3\u001b[39m\n",
      " \u001b[90m [5078a376]\u001b[39m\u001b[93m ↑ LazyArrays v0.10.0 ⇒ v0.12.2\u001b[39m\n",
      " \u001b[90m [a3b82374]\u001b[39m\u001b[93m ↑ MatrixFactorizations v0.1.0 ⇒ v0.2.0\u001b[39m\n",
      " \u001b[90m [65888b18]\u001b[39m\u001b[92m + ParameterizedFunctions v4.2.1\u001b[39m\n",
      " \u001b[90m [123dc426]\u001b[39m\u001b[92m + SymEngine v0.7.0\u001b[39m\n",
      "\u001b[32m\u001b[1m  Building\u001b[22m\u001b[39m SymEngine → `C:\\Users\\masahiro\\.julia\\packages\\SymEngine\\zSUGO\\deps\\build.log`\n"
     ]
    }
   ],
   "source": [
    "Pkg.add(\"ParameterizedFunctions\")"
   ]
  },
  {
   "cell_type": "code",
   "execution_count": 7,
   "metadata": {},
   "outputs": [
    {
     "name": "stderr",
     "output_type": "stream",
     "text": [
      "┌ Info: Precompiling DifferentialEquations [0c46a032-eb83-5123-abaf-570d42b7fbaa]\n",
      "└ @ Base loading.jl:1242\n",
      "┌ Info: Precompiling ParameterizedFunctions [65888b18-ceab-5e60-b2b9-181511a3b968]\n",
      "└ @ Base loading.jl:1242\n",
      "┌ Info: Recompiling stale cache file C:\\Users\\masahiro\\.julia\\compiled\\v1.2\\Distributions\\xILW0.ji for Distributions [31c24e10-a181-5473-b8eb-7969acd0382f]\n",
      "└ @ Base loading.jl:1240\n",
      "┌ Info: Recompiling stale cache file C:\\Users\\masahiro\\.julia\\compiled\\v1.2\\Plots\\ld3vC.ji for Plots [91a5bcdd-55d7-5caf-9e0b-520d859cae80]\n",
      "└ @ Base loading.jl:1240\n"
     ]
    }
   ],
   "source": [
    "using DifferentialEquations, ParameterizedFunctions, Distributions, Random, Plots; gr();"
   ]
  },
  {
   "cell_type": "markdown",
   "metadata": {},
   "source": [
    "## Mass-Spring Model"
   ]
  },
  {
   "cell_type": "code",
   "execution_count": 8,
   "metadata": {},
   "outputs": [],
   "source": [
    "MS_rhs = @ode_def begin\n",
    "    dx = y\n",
    "    dy = -(k/m)*x - (g/m)*y\n",
    "end m k g;"
   ]
  },
  {
   "cell_type": "code",
   "execution_count": 9,
   "metadata": {},
   "outputs": [],
   "source": [
    "function solve_MS(m,k,g,u0,u1)\n",
    "    u0 = [u0, u1]\n",
    "    tspan = (0.0, 50000.0)\n",
    "    p = [m, k, g]\n",
    "    prob = ODEProblem(MS_rhs, u0, tspan, p)\n",
    "    sol = solve(prob)\n",
    "    return sol\n",
    "end;"
   ]
  },
  {
   "cell_type": "code",
   "execution_count": 10,
   "metadata": {},
   "outputs": [
    {
     "name": "stdout",
     "output_type": "stream",
     "text": [
      "  0.011215 seconds (54.92 k allocations: 5.273 MiB)\n"
     ]
    }
   ],
   "source": [
    "solve_MS(10,0.5,0.1,4.0,0.0)\n",
    "@time sol = solve_MS(10,0.5,0.1,4.0,0.0);"
   ]
  },
  {
   "cell_type": "code",
   "execution_count": 11,
   "metadata": {},
   "outputs": [],
   "source": [
    "function eqtime_MS(m,k,g,u0,u1)\n",
    "    sol = solve_MS(m,k,g,u0,u1)\n",
    "    threshold = 0.00001\n",
    "    eqtime = findfirst([sum(y) for y in [abs.(x) for x in sol.u]] .< threshold)\n",
    "    return sol.t[eqtime]\n",
    "end;"
   ]
  },
  {
   "cell_type": "code",
   "execution_count": null,
   "metadata": {},
   "outputs": [],
   "source": [
    "eqtime_MS(10,0.1,0.1,4.0,0.0)\n",
    "@time eqtime_MS(10,0.1,0.1,4.0,0.0);"
   ]
  },
  {
   "cell_type": "markdown",
   "metadata": {},
   "source": [
    "## SIR Model"
   ]
  },
  {
   "cell_type": "code",
   "execution_count": null,
   "metadata": {},
   "outputs": [],
   "source": [
    "SIR_rhs = @ode_def begin\n",
    "    ds = - c * s * i\n",
    "    di = c * s * i - h * i\n",
    "    dr = h * i\n",
    "end c h;"
   ]
  },
  {
   "cell_type": "code",
   "execution_count": null,
   "metadata": {},
   "outputs": [],
   "source": [
    "function solve_SIR(c,h)\n",
    "    u0 = [0.99999 0.000001 0.0]\n",
    "    tspan = (0, 5000.0)\n",
    "    p = [c , h]\n",
    "    prob = ODEProblem(SIR_rhs, u0, tspan, p)\n",
    "    sol = solve(prob)\n",
    "    return sol\n",
    "end;"
   ]
  },
  {
   "cell_type": "code",
   "execution_count": null,
   "metadata": {},
   "outputs": [],
   "source": [
    "solve_SIR(0.5,0.2)\n",
    "@time sol = solve_SIR(0.5,0.1);"
   ]
  },
  {
   "cell_type": "code",
   "execution_count": null,
   "metadata": {},
   "outputs": [],
   "source": [
    "function eqpts_SIR(c,h)\n",
    "    sol = solve_SIR(c,h) \n",
    "    return sol.u[end]\n",
    "end;"
   ]
  },
  {
   "cell_type": "code",
   "execution_count": null,
   "metadata": {},
   "outputs": [],
   "source": [
    "eqpts_SIR(0.5,0.1)\n",
    "@time eqpts_SIR(0.5,0.2);"
   ]
  },
  {
   "cell_type": "markdown",
   "metadata": {},
   "source": [
    "## Sobol G Function\n",
    "\n",
    "Defined as\n",
    "\n",
    "$$ f(\\vec{x}) = \\prod_{i=1}^N \\frac{|4x_i - 2| + a_i}{1-a_i} $$\n",
    "\n",
    "where\n",
    "\n",
    "$$ \\vec{x} = [x_1, x_2, \\cdots, x_N] , \\quad x_i \\sim \\mathbf{U}(0,1)$$\n",
    "\n",
    "and\n",
    "\n",
    "$$ a_i = \\frac{i - 2}{2} \\text{ for all } i = 1, \\cdots, N .$$"
   ]
  },
  {
   "cell_type": "code",
   "execution_count": null,
   "metadata": {},
   "outputs": [],
   "source": [
    "function solve_SB(x; a=[0, 0.25, 99.0])\n",
    "    if length(x) != length(a)\n",
    "        error(\"Vectors must be the same dimension\")\n",
    "    else\n",
    "        y = prod([(abs(4*x[i] - 2) + a[i])./(1+a[i]) for i = 1:length(x)])\n",
    "    end\n",
    "    return y\n",
    "end;"
   ]
  },
  {
   "cell_type": "code",
   "execution_count": null,
   "metadata": {},
   "outputs": [],
   "source": [
    "solve_SB([0.1 0.2 0.3])\n",
    "@time sol = solve_SB([0.1 0.2 0.4]);"
   ]
  }
 ],
 "metadata": {
  "kernelspec": {
   "display_name": "Julia 1.2.0",
   "language": "julia",
   "name": "julia-1.2"
  },
  "language_info": {
   "file_extension": ".jl",
   "mimetype": "application/julia",
   "name": "julia",
   "version": "1.2.0"
  }
 },
 "nbformat": 4,
 "nbformat_minor": 2
}
