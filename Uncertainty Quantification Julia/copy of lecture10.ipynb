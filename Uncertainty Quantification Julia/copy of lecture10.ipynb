{
 "cells": [
  {
   "cell_type": "code",
   "execution_count": 7,
   "metadata": {},
   "outputs": [
    {
     "name": "stdout",
     "output_type": "stream",
     "text": [
      "\u001b[32m\u001b[1m  Updating\u001b[22m\u001b[39m registry at `C:\\Users\\masahiro\\.julia\\registries\\General`\n",
      "\u001b[32m\u001b[1m  Updating\u001b[22m\u001b[39m git-repo `https://github.com/JuliaRegistries/General.git`\n",
      "\u001b[2K\u001b[36m\u001b[1mFetching:\u001b[22m\u001b[39m [========================================>]  100.0 %.0 % [===>                                     ]  5.7 %                                    ]  9.8 %.6 %                             ]  25.1 %==============>                          ]  32.6 %6 %.6 %>                 ]  55.3 %>           ]  70.5 %.3 %89.0 % [======================================>  ]  94.3 % %\u001b[?25h\u001b[32m\u001b[1m Resolving\u001b[22m\u001b[39m package versions...\n",
      "\u001b[32m\u001b[1m Installed\u001b[22m\u001b[39m AxisAlgorithms ───────── v1.0.0\n",
      "\u001b[32m\u001b[1m Installed\u001b[22m\u001b[39m DataValueInterfaces ──── v1.0.0\n",
      "\u001b[32m\u001b[1m Installed\u001b[22m\u001b[39m KernelDensity ────────── v0.5.1\n",
      "\u001b[32m\u001b[1m Installed\u001b[22m\u001b[39m OffsetArrays ─────────── v0.11.1\n",
      "\u001b[32m\u001b[1m Installed\u001b[22m\u001b[39m StatsPlots ───────────── v0.12.0\n",
      "\u001b[32m\u001b[1m Installed\u001b[22m\u001b[39m FFTW ─────────────────── v1.0.1\n",
      "\u001b[32m\u001b[1m Installed\u001b[22m\u001b[39m DataValues ───────────── v0.4.12\n",
      "\u001b[32m\u001b[1m Installed\u001b[22m\u001b[39m Optim ────────────────── v0.19.3\n",
      "\u001b[32m\u001b[1m Installed\u001b[22m\u001b[39m WoodburyMatrices ─────── v0.4.1\n",
      "\u001b[32m\u001b[1m Installed\u001b[22m\u001b[39m Widgets ──────────────── v0.6.2\n",
      "\u001b[32m\u001b[1m Installed\u001b[22m\u001b[39m AbstractFFTs ─────────── v0.4.1\n",
      "\u001b[32m\u001b[1m Installed\u001b[22m\u001b[39m PositiveFactorizations ─ v0.2.2\n",
      "\u001b[32m\u001b[1m Installed\u001b[22m\u001b[39m Tables ───────────────── v0.2.11\n",
      "\u001b[32m\u001b[1m Installed\u001b[22m\u001b[39m Observables ──────────── v0.2.3\n",
      "\u001b[32m\u001b[1m Installed\u001b[22m\u001b[39m NearestNeighbors ─────── v0.4.3\n",
      "\u001b[32m\u001b[1m Installed\u001b[22m\u001b[39m Ratios ───────────────── v0.3.1\n",
      "\u001b[32m\u001b[1m Installed\u001b[22m\u001b[39m Clustering ───────────── v0.13.3\n",
      "\u001b[32m\u001b[1m Installed\u001b[22m\u001b[39m Interpolations ───────── v0.12.2\n",
      "\u001b[32m\u001b[1m  Updating\u001b[22m\u001b[39m `C:\\Users\\masahiro\\.julia\\environments\\v1.2\\Project.toml`\n",
      " \u001b[90m [f3b207a7]\u001b[39m\u001b[92m + StatsPlots v0.12.0\u001b[39m\n",
      "\u001b[32m\u001b[1m  Updating\u001b[22m\u001b[39m `C:\\Users\\masahiro\\.julia\\environments\\v1.2\\Manifest.toml`\n",
      " \u001b[90m [621f4979]\u001b[39m\u001b[92m + AbstractFFTs v0.4.1\u001b[39m\n",
      " \u001b[90m [13072b0f]\u001b[39m\u001b[92m + AxisAlgorithms v1.0.0\u001b[39m\n",
      " \u001b[90m [aaaa29a8]\u001b[39m\u001b[92m + Clustering v0.13.3\u001b[39m\n",
      " \u001b[90m [e2d170a0]\u001b[39m\u001b[92m + DataValueInterfaces v1.0.0\u001b[39m\n",
      " \u001b[90m [e7dc6d0d]\u001b[39m\u001b[92m + DataValues v0.4.12\u001b[39m\n",
      " \u001b[90m [7a1cc6ca]\u001b[39m\u001b[92m + FFTW v1.0.1\u001b[39m\n",
      " \u001b[90m [a98d9a8b]\u001b[39m\u001b[92m + Interpolations v0.12.2\u001b[39m\n",
      " \u001b[90m [5ab0869b]\u001b[39m\u001b[92m + KernelDensity v0.5.1\u001b[39m\n",
      " \u001b[90m [b8a86587]\u001b[39m\u001b[92m + NearestNeighbors v0.4.3\u001b[39m\n",
      " \u001b[90m [510215fc]\u001b[39m\u001b[92m + Observables v0.2.3\u001b[39m\n",
      " \u001b[90m [6fe1bfb0]\u001b[39m\u001b[92m + OffsetArrays v0.11.1\u001b[39m\n",
      " \u001b[90m [429524aa]\u001b[39m\u001b[92m + Optim v0.19.3\u001b[39m\n",
      " \u001b[90m [85a6dd25]\u001b[39m\u001b[92m + PositiveFactorizations v0.2.2\u001b[39m\n",
      " \u001b[90m [c84ed2f1]\u001b[39m\u001b[92m + Ratios v0.3.1\u001b[39m\n",
      " \u001b[90m [f3b207a7]\u001b[39m\u001b[92m + StatsPlots v0.12.0\u001b[39m\n",
      " \u001b[90m [bd369af6]\u001b[39m\u001b[92m + Tables v0.2.11\u001b[39m\n",
      " \u001b[90m [cc8bc4a8]\u001b[39m\u001b[92m + Widgets v0.6.2\u001b[39m\n",
      " \u001b[90m [efce3f68]\u001b[39m\u001b[92m + WoodburyMatrices v0.4.1\u001b[39m\n",
      "\u001b[32m\u001b[1m  Building\u001b[22m\u001b[39m FFTW → `C:\\Users\\masahiro\\.julia\\packages\\FFTW\\MJ7kl\\deps\\build.log`\n"
     ]
    }
   ],
   "source": [
    "using Pkg\n",
    "Pkg.add(\"StatsPlots\")"
   ]
  },
  {
   "cell_type": "code",
   "execution_count": 8,
   "metadata": {},
   "outputs": [
    {
     "name": "stderr",
     "output_type": "stream",
     "text": [
      "┌ Info: Precompiling StatsPlots [f3b207a7-027a-5e70-b257-86293d7955fd]\n",
      "└ @ Base loading.jl:1242\n"
     ]
    }
   ],
   "source": [
    "using Distributions, StatsPlots, Random, Plots; gr();"
   ]
  },
  {
   "cell_type": "code",
   "execution_count": 2,
   "metadata": {},
   "outputs": [],
   "source": [
    "# Data from the 1975 World Almanac of height (dataX) vs weight( dataY)\n",
    "dataX = collect(58:72)\n",
    "dataY = [115, 117, 120, 123, 126, 129, 132, 135, 139, 142, 146, 150, 154, 159, 164];"
   ]
  },
  {
   "cell_type": "code",
   "execution_count": 3,
   "metadata": {},
   "outputs": [
    {
     "ename": "UndefVarError",
     "evalue": "UndefVarError: scatter not defined",
     "output_type": "error",
     "traceback": [
      "UndefVarError: scatter not defined",
      "",
      "Stacktrace:",
      " [1] top-level scope at In[3]:1"
     ]
    }
   ],
   "source": [
    "# Quick plot of the data\n",
    "scatter(dataX,dataY,label=\"\",xlabel=\"Height (in)\", ylabel=\"Weight (lbs)\")"
   ]
  },
  {
   "cell_type": "code",
   "execution_count": 4,
   "metadata": {},
   "outputs": [],
   "source": [
    "# A model for the data - this is assumed\n",
    "f(x,p1,p2,p3) = p1 + p2*(x/12) + p3*(x/12).^2;"
   ]
  },
  {
   "cell_type": "code",
   "execution_count": 5,
   "metadata": {},
   "outputs": [
    {
     "data": {
      "text/plain": [
       "3-element Array{Float64,1}:\n",
       " 27.898924710461515 \n",
       " 10.325211862233143 \n",
       "  0.9539392014169457"
      ]
     },
     "execution_count": 5,
     "metadata": {},
     "output_type": "execute_result"
    }
   ],
   "source": [
    "# The parameters for our model are defined as random variables.\n",
    "# This information is being given from on-high.\n",
    "meanP = [261.8, -88.1, 11.96];\n",
    "varP = [778.35, 106.61, 0.91];\n",
    "stdP = sqrt.(varP)"
   ]
  },
  {
   "cell_type": "code",
   "execution_count": 6,
   "metadata": {},
   "outputs": [
    {
     "data": {
      "text/plain": [
       "120.30000000000001"
      ]
     },
     "execution_count": 6,
     "metadata": {},
     "output_type": "execute_result"
    }
   ],
   "source": [
    "# Example of the model output\n",
    "f(60,meanP[1],meanP[2],meanP[3])"
   ]
  },
  {
   "cell_type": "code",
   "execution_count": null,
   "metadata": {},
   "outputs": [],
   "source": [
    "# Plot the model and data together\n",
    "scatter(dataX,dataY,label=\"Data\",xlabel=\"Height (in)\", \n",
    "    ylabel=\"Weight (lbs)\")\n",
    "plot!(dataX,f.(dataX,meanP[1],meanP[2],meanP[3]),\n",
    "    label=\"Model\",legend=:topleft,linewidth=3)"
   ]
  },
  {
   "cell_type": "code",
   "execution_count": null,
   "metadata": {},
   "outputs": [],
   "source": [
    "# Define the distributions of the parameters as normal (assumed)\n",
    "p1_dist = Normal(meanP[1],stdP[1]) \n",
    "p2_dist = Normal(meanP[2],stdP[2]) \n",
    "p3_dist = Normal(meanP[3],stdP[3])"
   ]
  },
  {
   "cell_type": "code",
   "execution_count": null,
   "metadata": {},
   "outputs": [],
   "source": [
    "# Collect N samples of the disjoint and independent distributions\n",
    "N = 1000\n",
    "rand_params = \n",
    "[ rand(p1_dist, N) rand(p2_dist, N) rand(p3_dist, N)]'"
   ]
  },
  {
   "cell_type": "code",
   "execution_count": null,
   "metadata": {},
   "outputs": [],
   "source": [
    "# Evaluate the model N times (samples above) and plot them\n",
    "plt = plot(xlabel=\"Height (in)\", ylabel=\"Weight (lbs)\",ylimits=(0,300))\n",
    "for i = 1:N\n",
    "    plot!(plt, \n",
    "        dataX,f.(dataX, rand_params[1,i],rand_params[2,i],rand_params[3,i]),\n",
    "        label=\"\",color=:black,alpha=0.1,legend=:topleft)\n",
    "end\n",
    "scatter!(dataX,dataY,label=\"Data\",\n",
    "    xlabel=\"Height (in)\", ylabel=\"Weight (lbs)\")\n",
    "plt"
   ]
  },
  {
   "cell_type": "code",
   "execution_count": null,
   "metadata": {},
   "outputs": [],
   "source": [
    "# Just pull out a single time point and plot the histogram\n",
    "QoI = zeros(N)\n",
    "for i = 1:N\n",
    "    QoI[i] = f(65.0, rand_params[1,i],rand_params[2,i],rand_params[3,i])\n",
    "end"
   ]
  },
  {
   "cell_type": "code",
   "execution_count": null,
   "metadata": {},
   "outputs": [],
   "source": [
    "histogram(QoI)"
   ]
  },
  {
   "cell_type": "code",
   "execution_count": 7,
   "metadata": {},
   "outputs": [
    {
     "ename": "UndefVarError",
     "evalue": "UndefVarError: QoI not defined",
     "output_type": "error",
     "traceback": [
      "UndefVarError: QoI not defined",
      "",
      "Stacktrace:",
      " [1] top-level scope at In[7]:1"
     ]
    }
   ],
   "source": [
    "mean(QoI)"
   ]
  },
  {
   "cell_type": "code",
   "execution_count": 8,
   "metadata": {},
   "outputs": [
    {
     "data": {
      "text/plain": [
       "135.50138888888898"
      ]
     },
     "execution_count": 8,
     "metadata": {},
     "output_type": "execute_result"
    }
   ],
   "source": [
    "# This mean matches the sampling mean above\n",
    "f(65.0,meanP[1],meanP[2],meanP[3])"
   ]
  },
  {
   "cell_type": "code",
   "execution_count": 9,
   "metadata": {},
   "outputs": [
    {
     "ename": "UndefVarError",
     "evalue": "UndefVarError: QoI not defined",
     "output_type": "error",
     "traceback": [
      "UndefVarError: QoI not defined",
      "",
      "Stacktrace:",
      " [1] top-level scope at In[9]:1"
     ]
    }
   ],
   "source": [
    "var(QoI)"
   ]
  },
  {
   "cell_type": "code",
   "execution_count": null,
   "metadata": {},
   "outputs": [],
   "source": [
    "# This variance matches the sampling variance above\n",
    "varP[1] + (65.5/12)^2 * varP[2] + (65.5/12)^4 * varP[3]"
   ]
  },
  {
   "cell_type": "code",
   "execution_count": null,
   "metadata": {},
   "outputs": [],
   "source": [
    "# Define functions for these computed values and plot them\n",
    "meanF(x) = f(x,meanP[1],meanP[2],meanP[3])\n",
    "varF(x) = varP[1] + (x/12)^2 * varP[2] + (x/12)^4 * varP[3];"
   ]
  },
  {
   "cell_type": "code",
   "execution_count": null,
   "metadata": {},
   "outputs": [],
   "source": [
    "scatter(dataX,dataY,label=\"Data\",xlabel=\"Height (in)\", ylabel=\"Weight (lbs)\",ylimits=(0,300))\n",
    "plot!(dataX,meanF.(dataX),label=\"Mean F\", color=:red,linewidth=3,legend=:topleft)"
   ]
  },
  {
   "cell_type": "code",
   "execution_count": null,
   "metadata": {},
   "outputs": [],
   "source": [
    "scatter(dataX,dataY,label=\"Data\",xlabel=\"Height (in)\", ylabel=\"Weight (lbs)\",ylimits=(-20,300))\n",
    "plot!(dataX,meanF.(dataX),label=\"Mean F\", color=:red,linewidth=3,legend=:topleft)\n",
    "plot!(dataX,meanF.(dataX) + 2 .* sqrt.(varF.(dataX)),label=\"Mean F + 2STD\", line=(3,:dot,:blue),legend=:topleft)\n",
    "plot!(dataX,meanF.(dataX) - 2 .* sqrt.(varF.(dataX)),label=\"Mean F - 2STD\", line=(3,:dot,:blue),legend=:topleft)"
   ]
  },
  {
   "cell_type": "code",
   "execution_count": null,
   "metadata": {},
   "outputs": [],
   "source": [
    "# This covariance matrix is being given from on-high.\n",
    "V = [778.35 -287.93 26.51; -287.93 106.61 -9.82; 26.51 -9.82 0.91]"
   ]
  },
  {
   "cell_type": "code",
   "execution_count": null,
   "metadata": {},
   "outputs": [],
   "source": [
    "# We need the LA package to do the following checks\n",
    "using LinearAlgebra"
   ]
  },
  {
   "cell_type": "code",
   "execution_count": null,
   "metadata": {},
   "outputs": [],
   "source": [
    "# Covariance matricies are always hermitian (e.g., symmetric)\n",
    "ishermitian(V)"
   ]
  },
  {
   "cell_type": "code",
   "execution_count": null,
   "metadata": {},
   "outputs": [],
   "source": [
    "# Covariance matricies are always positive definite\n",
    "isposdef(V)"
   ]
  },
  {
   "cell_type": "code",
   "execution_count": null,
   "metadata": {},
   "outputs": [],
   "source": [
    "# Define a multivariate normal that includes the covariance\n",
    "pdist = MvNormal(meanP,V)"
   ]
  },
  {
   "cell_type": "code",
   "execution_count": null,
   "metadata": {},
   "outputs": [],
   "source": [
    "# Collect N samples from the now DEPENDENT parameters\n",
    "N = 1000\n",
    "rand_params = rand(pdist,N)"
   ]
  },
  {
   "cell_type": "code",
   "execution_count": null,
   "metadata": {},
   "outputs": [],
   "source": [
    "# Run the model for N samples and plot\n",
    "plt = scatter(xlabel=\"Height (in)\", ylabel=\"Weight (lbs)\",ylimits=(0,300))\n",
    "for i = 1:N\n",
    "    plot!(plt, dataX,f.(dataX, rand_params[1,i],rand_params[2,i],rand_params[3,i]),label=\"\",\n",
    "        color=:black,alpha=0.1,legend=:topleft)\n",
    "end\n",
    "scatter!(dataX,dataY,label=\"Data\",xlabel=\"Height (in)\", ylabel=\"Weight (lbs)\")\n",
    "plt"
   ]
  },
  {
   "cell_type": "code",
   "execution_count": null,
   "metadata": {},
   "outputs": [],
   "source": [
    "# Extract a single time point and show mean/variance are same\n",
    "QoI = zeros(N)\n",
    "for i = 1:N \n",
    "    QoI[i] = f(65.0, rand_params[1,i],rand_params[2,i],rand_params[3,i])\n",
    "end"
   ]
  },
  {
   "cell_type": "code",
   "execution_count": null,
   "metadata": {},
   "outputs": [],
   "source": [
    "mean(QoI)"
   ]
  },
  {
   "cell_type": "code",
   "execution_count": null,
   "metadata": {},
   "outputs": [],
   "source": [
    "meanF(65.0)"
   ]
  },
  {
   "cell_type": "code",
   "execution_count": null,
   "metadata": {},
   "outputs": [],
   "source": [
    "var(QoI)"
   ]
  },
  {
   "cell_type": "code",
   "execution_count": null,
   "metadata": {},
   "outputs": [],
   "source": [
    "# The direct calculation of variance is more complicated because\n",
    "# of the covariance, but still possible to compute.\n",
    "varP[1] + (65.0/12)^2 * varP[2] + (65.0/12)^4 * varP[3] + \n",
    "    2 * ( (65.0/12) * V[1,2] + (65.0/12)^2 * V[1,3] + (65.0/12)^3 * V[2,3] )"
   ]
  },
  {
   "cell_type": "code",
   "execution_count": null,
   "metadata": {},
   "outputs": [],
   "source": [
    "meanF(x) = f(x,meanP[1],meanP[2],meanP[3])\n",
    "varF(x) = varP[1] + (x/12)^2 * varP[2] + (x/12)^4 * varP[3] + \n",
    "    2 * ( (x/12) * V[1,2] + (x/12)^2 * V[1,3] + (x/12)^3 * V[2,3] );"
   ]
  },
  {
   "cell_type": "code",
   "execution_count": null,
   "metadata": {},
   "outputs": [],
   "source": [
    "scatter(dataX,dataY,label=\"Data\",xlabel=\"Height (in)\", ylabel=\"Weight (lbs)\",ylimits=(0,300))\n",
    "plot!(dataX,meanF.(dataX),label=\"Mean F\", color=:red,linewidth=3,legend=:topleft)"
   ]
  },
  {
   "cell_type": "code",
   "execution_count": null,
   "metadata": {},
   "outputs": [],
   "source": [
    "scatter(dataX,dataY,label=\"Data\",xlabel=\"Height (in)\", ylabel=\"Weight (lbs)\")#,ylimits=(0,300))\n",
    "plot!(dataX,meanF.(dataX),label=\"Mean F\", color=:red,linewidth=3,legend=:topleft)\n",
    "plot!(dataX,meanF.(dataX) + sqrt.(varF.(dataX)),label=\"Mean F + 1STD\", line=(3,:dot,:blue),legend=:topleft)\n",
    "plot!(dataX,meanF.(dataX) - sqrt.(varF.(dataX)),label=\"Mean F - 1STD\", line=(3,:dot,:blue),legend=:topleft)"
   ]
  },
  {
   "cell_type": "code",
   "execution_count": null,
   "metadata": {},
   "outputs": [],
   "source": [
    "scatter(dataX,dataY,label=\"Data\",xlabel=\"Height (in)\", ylabel=\"Weight (lbs)\")\n",
    "plot!(dataX,meanF.(dataX),label=\"Mean F\", color=:red,linewidth=3,legend=:topleft)\n",
    "plot!(dataX,meanF.(dataX) + sqrt.(varF.(dataX)),label=\"Mean F + 1STD\", line=(3,:dot,:blue),legend=:topleft)\n",
    "plot!(dataX,meanF.(dataX) - sqrt.(varF.(dataX)),label=\"Mean F - 1STD\", line=(3,:dot,:blue),legend=:topleft)"
   ]
  },
  {
   "cell_type": "code",
   "execution_count": null,
   "metadata": {},
   "outputs": [],
   "source": []
  },
  {
   "cell_type": "code",
   "execution_count": null,
   "metadata": {},
   "outputs": [],
   "source": []
  },
  {
   "cell_type": "code",
   "execution_count": null,
   "metadata": {},
   "outputs": [],
   "source": []
  }
 ],
 "metadata": {
  "kernelspec": {
   "display_name": "Julia 1.2.0",
   "language": "julia",
   "name": "julia-1.2"
  },
  "language_info": {
   "file_extension": ".jl",
   "mimetype": "application/julia",
   "name": "julia",
   "version": "1.2.0"
  }
 },
 "nbformat": 4,
 "nbformat_minor": 2
}
